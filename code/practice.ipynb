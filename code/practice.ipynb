{
 "metadata": {
  "name": "",
  "signature": "sha256:cf283bb75f424bd6a2c3518ed0c80d87fb81aa3f5630f4f4f31079d922692c0d"
 },
 "nbformat": 3,
 "nbformat_minor": 0,
 "worksheets": [
  {
   "cells": [
    {
     "cell_type": "code",
     "collapsed": false,
     "input": [
      "import thinkdsp\n",
      "import numpy\n",
      "\n",
      "wave = thinkdsp.BrownianNoise().make_wave()\n",
      "hs = wave.make_spectrum().hs\n",
      "average = numpy.mean(numpy.angle(hs))\n",
      "\n",
      "print average"
     ],
     "language": "python",
     "metadata": {},
     "outputs": [
      {
       "output_type": "stream",
       "stream": "stdout",
       "text": [
        "-0.196320705284\n"
       ]
      }
     ],
     "prompt_number": 54
    },
    {
     "cell_type": "code",
     "collapsed": false,
     "input": [],
     "language": "python",
     "metadata": {},
     "outputs": [],
     "prompt_number": 37
    },
    {
     "cell_type": "code",
     "collapsed": false,
     "input": [],
     "language": "python",
     "metadata": {},
     "outputs": []
    }
   ],
   "metadata": {}
  }
 ]
}